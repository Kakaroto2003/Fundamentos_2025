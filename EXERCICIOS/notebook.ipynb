{
 "cells": [
  {
   "cell_type": "code",
   "execution_count": 4,
   "metadata": {},
   "outputs": [
    {
     "name": "stdout",
     "output_type": "stream",
     "text": [
      "Nao e Triangulo\n"
     ]
    }
   ],
   "source": [
    "a = int(input(\"Lado a: \"))\n",
    "b = int(input(\"Lado b: \"))\n",
    "c = int(input(\"Lado c: \"))\n",
    "if (a < b + c) and (b < a + c) and (c < a + b):\n",
    "    if (a == b) and ( b == c):\n",
    "        print(\"Triangulo equilatero\")\n",
    "    else:\n",
    "        if (a == b) or (a == c) or (b == c):\n",
    "            print(\"Triangulo isosceles\")\n",
    "        else:\n",
    "            print(\"Triangulo escaleno\")\n",
    "else:\n",
    "    print(\"Nao e Triangulo\")\n"
   ]
  }
 ],
 "metadata": {
  "kernelspec": {
   "display_name": "base",
   "language": "python",
   "name": "python3"
  },
  "language_info": {
   "codemirror_mode": {
    "name": "ipython",
    "version": 3
   },
   "file_extension": ".py",
   "mimetype": "text/x-python",
   "name": "python",
   "nbconvert_exporter": "python",
   "pygments_lexer": "ipython3",
   "version": "3.9.13"
  }
 },
 "nbformat": 4,
 "nbformat_minor": 2
}
