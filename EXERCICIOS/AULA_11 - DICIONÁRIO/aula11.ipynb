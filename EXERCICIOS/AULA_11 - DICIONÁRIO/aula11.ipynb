{
 "cells": [
  {
   "cell_type": "markdown",
   "id": "e5938dcd",
   "metadata": {},
   "source": [
    "# Dicionários\n",
    "\n",
    "- O Dicionário é uma estrutura de dados\n",
    "- Estruturas de dados são maneiras de organizar os dados\n",
    "- Listas e Tuplas também são estruturas de dados\n",
    "- Dicionários (em Python) são vetores associativos\n",
    "- Vetores associativos são coleções desordenadas de dados\n",
    "- São usadas para armazenar valores como um mapa por meio de elementos formados pelo par `chave` e `valor`.\n",
    "- Assim, diferentemente das listas ou tuplas, que contém um único valor como elemento, o dicionário contém o par `chave:valor` (`key:value`)\n",
    "    - Chave (key): serve para deixar o dicionário otimizado\n",
    "    - Valor (value): valor do elemento associado a uma chave\n",
    "- Dicionários diferem das listas essencialmente na maneira como os elementos são acessados:\n",
    "- Listas: valores são acessados por sua posição dentro da lista, via índice\n",
    "- Dicionários: valores são acessados por meio de suas chaves\n",
    " (keys\n",
    "- Um dicionário em Python funciona de forma semelhante ao dicionário de palavras:\n",
    "- As chaves (keys) de um dicionário devem ser exclusivas e com o tipo de dados imutáveis, como strings, inteiros ou tuplas\n",
    "- Porém, os valores (values) associados às chaves podem ser repetidos e de qualquer tipo\n",
    "- Para criarmos um dicionário, devemos incluir uma sequência de elementos dentro de chaves { }, separados por vírgula.\n",
    "- A chave e o valor são separados por dois pontos:\n",
    "- Cada elemento do dicionário é um par compost por chave (key) e valor (value).\n",
    "\n",
    "```python\n",
    "d = {\n",
    "    <chave1>:<valor1>,\n",
    "    <chave2>:<valor2>,\n",
    "    <chave3>:<valor3>\n",
    "}\n",
    "```\n",
    "\n",
    "Um exemplo de dicionário é apresentado a seguir:\n",
    "\n",
    "```python\n",
    "dicionario = {\n",
    "    1 : \"Exemplo\",\n",
    "    2 : \"de\",\n",
    "    3: \"dicionário\",\n",
    "}\n",
    "```"
   ]
  },
  {
   "cell_type": "markdown",
   "id": "5511079f",
   "metadata": {},
   "source": [
    "## Exemplos"
   ]
  },
  {
   "cell_type": "code",
   "execution_count": null,
   "id": "58dba358",
   "metadata": {},
   "outputs": [],
   "source": [
    "# Exemplo de dicionário em Python\n",
    "dicionario = {\n",
    "    1 : \"Exemplo\",\n",
    "    2 : \"de\",\n",
    "    3: \"dicionário\",\n",
    "}\n",
    "print(dicionario)"
   ]
  },
  {
   "cell_type": "code",
   "execution_count": null,
   "id": "9fa11fef",
   "metadata": {},
   "outputs": [],
   "source": [
    "# Exemplo de dicionário com chaves de tipos diferentes\n",
    "\n",
    "teste = {\n",
    "    \"nome\": \"Fulano\",\n",
    "    5: \"Cinco\",\n",
    "    \"lista\": [1, 2, 4],\n",
    "}\n",
    "print(teste)"
   ]
  },
  {
   "cell_type": "code",
   "execution_count": null,
   "id": "571109e3",
   "metadata": {},
   "outputs": [],
   "source": [
    "# Acessando os valores do dicionário\n",
    "ingles = {\n",
    "    \"um\": \"one\",\n",
    "    \"dois\": \"two\",\n",
    "    \"tres\": \"three\",\n",
    "    \"quatro\": \"four\",\n",
    "    \"cinco\": \"five\",\n",
    "}\n",
    "\n",
    "print(ingles[\"um\"])\n",
    "print(ingles[\"quatro\"])"
   ]
  },
  {
   "cell_type": "code",
   "execution_count": null,
   "id": "7b2c954d",
   "metadata": {},
   "outputs": [],
   "source": [
    "# Acessando os valores do dicionário\n",
    "ingles_num = {\n",
    "    1: \"one\",\n",
    "    2: \"two\",\n",
    "    3: \"three\",\n",
    "    4: \"four\",\n",
    "    5: \"five\",\n",
    "}\n",
    "print(ingles_num[1])\n",
    "print(ingles_num[4])"
   ]
  },
  {
   "cell_type": "code",
   "execution_count": null,
   "id": "9c3fe936",
   "metadata": {},
   "outputs": [],
   "source": [
    "# Também podemos usar o método get() para acessar os valores\n",
    "ingles_num = {\n",
    "    1: \"one\",\n",
    "    2: \"two\",\n",
    "    3: \"three\",\n",
    "    4: \"four\",\n",
    "    5: \"five\",\n",
    "}\n",
    "print(ingles_num.get(1))\n",
    "print(ingles_num.get(4))"
   ]
  },
  {
   "cell_type": "code",
   "execution_count": null,
   "id": "e27383a8",
   "metadata": {},
   "outputs": [],
   "source": [
    "# Para adicionar elementos ao dicionário, basta usar a chave e atribuir um valor\n",
    "ingles_num = {\n",
    "    1: \"one\",\n",
    "    2: \"two\",\n",
    "    3: \"three\",\n",
    "    4: \"four\",\n",
    "    5: \"five\",\n",
    "}\n",
    "print(ingles_num)\n",
    "ingles_num[7] = \"seven\"\n",
    "print(ingles_num)"
   ]
  },
  {
   "cell_type": "code",
   "execution_count": null,
   "id": "2dd8f7a1",
   "metadata": {},
   "outputs": [],
   "source": [
    "# Para remover um elemento do dicionário, usamos o comando del\n",
    "ingles_num = {\n",
    "    1: \"one\",\n",
    "    2: \"two\",\n",
    "    3: \"three\",\n",
    "    4: \"four\",\n",
    "    5: \"five\",\n",
    "}\n",
    "print(ingles_num)\n",
    "del ingles_num[3]\n",
    "print(ingles_num)"
   ]
  },
  {
   "cell_type": "code",
   "execution_count": null,
   "id": "49002693",
   "metadata": {},
   "outputs": [],
   "source": [
    "# O método items() retorna uma lista de tuplas, onde cada tupla contém uma chave e seu respectivo valor\n",
    "\n",
    "dicionario = {\n",
    "    \"um\": \"exemplo\",\n",
    "    \"dois\": \"de\",\n",
    "    \"tres\": \"dicionário\",\n",
    "}\n",
    "d = dicionario.items()\n",
    "d = list(d)\n",
    "print(d)"
   ]
  },
  {
   "cell_type": "code",
   "execution_count": null,
   "id": "031addac",
   "metadata": {},
   "outputs": [],
   "source": [
    "# O método keys() retorna uma lista com as chaves do dicionário\n",
    "dicionario = {\n",
    "    \"um\": \"exemplo\",\n",
    "    \"dois\": \"de\",\n",
    "    \"tres\": \"dicionário\",\n",
    "}\n",
    "d = dicionario.keys()\n",
    "d = list(d)\n",
    "print(d)"
   ]
  },
  {
   "cell_type": "code",
   "execution_count": null,
   "id": "ef419a62",
   "metadata": {},
   "outputs": [],
   "source": [
    "# O método values() retorna uma lista com os valores do dicionário\n",
    "dicionario = {\n",
    "    \"um\": \"exemplo\",\n",
    "    \"dois\": \"de\",\n",
    "    \"tres\": \"dicionário\",\n",
    "}\n",
    "d = dicionario.values()\n",
    "d = list(d)\n",
    "print(d)"
   ]
  },
  {
   "cell_type": "code",
   "execution_count": null,
   "id": "e7b6b786",
   "metadata": {},
   "outputs": [],
   "source": [
    "# Poremos utilizar o método keys() e values() para iterar sobre o dicionário\n",
    "\n",
    "dicionario = {\n",
    "    \"um\": \"exemplo\",\n",
    "    \"dois\": \"de\",\n",
    "    \"tres\": \"dicionário\",\n",
    "}\n",
    "\n",
    "for chave in dicionario.keys():\n",
    "    print(chave)\n",
    "    \n",
    "print()\n",
    "\n",
    "for valor in dicionario.values():\n",
    "    print(valor)"
   ]
  },
  {
   "cell_type": "markdown",
   "id": "4b88b3d9",
   "metadata": {},
   "source": [
    "## Exercícios"
   ]
  },
  {
   "cell_type": "code",
   "execution_count": null,
   "id": "51e31d0c",
   "metadata": {},
   "outputs": [],
   "source": [
    "# Exercício 1. Escreva uma função chamada procuraChave que encontre todas as\n",
    "# chaves, em um dicionário, que estão associadas a um valor\n",
    "# específico.\n",
    "# A função receberá o dicionário e o valor a procurar como seus\n",
    "# únicos parâmetros.\n",
    "# A função retornará uma lista (possivelmente vazia) de chaves\n",
    "# associadas ao valor fornecido.\n",
    "# Faça um programa principal que mostra o funcionamento da\n",
    "# função.\n",
    "# Seu programa principal deve criar um dicionário e mostrar que\n",
    "# a função procuraChave funciona corretamente quando retorna\n",
    "# várias chaves, uma única chave ou nenhuma chave."
   ]
  },
  {
   "cell_type": "code",
   "execution_count": null,
   "id": "2f2eeb62",
   "metadata": {},
   "outputs": [],
   "source": [
    "# Exercício 2. Faça um programa que gere 100 números aleatórios\n",
    "# Gere números no intervalo de 0 à 20\n",
    "# Mostre quantas vezes cada número apareceu\n",
    "# Dica:\n",
    "# Utilize um dicionário para armazenar o número como chave\n",
    "# e a quantidade de vezes em que ele aparece como valor\n"
   ]
  },
  {
   "cell_type": "code",
   "execution_count": null,
   "id": "8efdb158",
   "metadata": {},
   "outputs": [],
   "source": [
    "# Exercício 3. Neste exercício, você simulará 1000 lançamentos de dois dados.\n",
    "# Comece escrevendo uma função que simula o lançamento de um par\n",
    "# de dados de seis lados cada.\n",
    "# Sua função não deve aceitar nenhum parâmetro.\n",
    "# Ela retornará a somatória obtida pelos dois dados.\n",
    "# Escreva um programa principal que use sua função para simular\n",
    "# 1000 lançamentos de dois dados.\n",
    "# Como acontece em alguns programas, você deve contar o número\n",
    "# de vezes que cada somatória acontece.\n",
    "# Em seguida, a função principal deve exibir uma tabela que\n",
    "# resume esses resultados.\n",
    "# Mostre a frequência para cada resultado como uma porcentagem\n",
    "# do número total de lançamentos.\n"
   ]
  },
  {
   "cell_type": "code",
   "execution_count": null,
   "id": "b328948c",
   "metadata": {},
   "outputs": [],
   "source": [
    "# Exercício 4. Crie uma função que retorna o número de caracteres únicos em\n",
    "# uma string criada pelo usuário.\n",
    "# Por exemplo:\n",
    "# “Hello, World!” tem 10 caracteres únicos\n",
    "# enquanto zzz tem somente 1 caractere único.\n",
    "# Use um dicionário para resolver este problema.\n"
   ]
  },
  {
   "cell_type": "code",
   "execution_count": null,
   "id": "4d3dd65a",
   "metadata": {},
   "outputs": [],
   "source": [
    "# Exercício 5. Duas palavras são anagramas se contiverem todas as mesmas\n",
    "# letras, mas em uma ordem diferente.\n",
    "# Por exemplo: estante e setenta são anagramas.\n",
    "# Crie uma função que recebe duas strings do usuário e determina\n",
    "# se elas são ou não anagramas.\n",
    "# Utilize dicionário para resolver o problema.\n"
   ]
  },
  {
   "cell_type": "code",
   "execution_count": null,
   "id": "9ddd4177",
   "metadata": {},
   "outputs": [],
   "source": [
    "# Exercício 6. Um cartão de bingo consiste de 5 colunas de 5 números. As\n",
    "# colunas são rotuladas com as letras B, I, N, G e O. Existem 15\n",
    "# números que podem aparecer na coluna de cada letra. Em\n",
    "# particular, os números que podem aparecer na coluna de B estão\n",
    "# no intervalo de 1 a 15, os números que podem aparecer sob o I\n",
    "# variam de 16 a 30 e assim por diante. Escreva uma função que\n",
    "# cria um cartão de Bingo com números aleatórios e armazena tudo\n",
    "# em um dicionário. As chaves serão as letras B, I, N, G e O.\n",
    "# Os valores serão as listas de cinco números que aparecem em\n",
    "# cada letra.\n"
   ]
  },
  {
   "cell_type": "code",
   "execution_count": null,
   "id": "a3fafcd1",
   "metadata": {},
   "outputs": [],
   "source": [
    "# Exercício 7. Escreva uma segunda função que exibe o cartão de Bingo com as\n",
    "# colunas identificadas adequadamente.\n",
    "# Use as funções para escrever um programa que exibe um cartão\n",
    "# aleatório. letra.\n"
   ]
  }
 ],
 "metadata": {
  "kernelspec": {
   "display_name": "Python 3",
   "language": "python",
   "name": "python3"
  },
  "language_info": {
   "codemirror_mode": {
    "name": "ipython",
    "version": 3
   },
   "file_extension": ".py",
   "mimetype": "text/x-python",
   "name": "python",
   "nbconvert_exporter": "python",
   "pygments_lexer": "ipython3",
   "version": "3.10.12"
  }
 },
 "nbformat": 4,
 "nbformat_minor": 5
}
